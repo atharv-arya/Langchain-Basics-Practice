{
 "cells": [
  {
   "cell_type": "code",
   "execution_count": 2,
   "id": "30f77e75",
   "metadata": {},
   "outputs": [],
   "source": [
    "from dotenv import load_dotenv\n",
    "import os\n",
    "load_dotenv()\n",
    "openai_api_key = os.getenv(\"OPENAI_API_KEY\")"
   ]
  },
  {
   "cell_type": "code",
   "execution_count": 8,
   "id": "2630c22a",
   "metadata": {},
   "outputs": [
    {
     "name": "stdout",
     "output_type": "stream",
     "text": [
      "\n",
      "\n",
      "1. \"Cibo Italiano\"\n",
      "2. \"Bella Italia\"\n",
      "3. \"La Dolce Vita\"\n",
      "4. \"Trattoria Elegante\"\n",
      "5. \"Ristorante Di Lusso\"\n",
      "6. \"Cucina Classica\"\n",
      "7. \"Al Dente\"\n",
      "8. \"Fresco Italiano\"\n",
      "9. \"Gusto Italiano\"\n",
      "10. \"Vivace Ristorante\"\n",
      "11. \"Sapori d'Italia\"\n",
      "12. \"Ristorante di Roma\"\n",
      "13. \"Grazie Italiano\"\n",
      "14. \"Sapore di Toscana\"\n",
      "15. \"Bistro Fiore\"\n",
      "16. \"Bella Tavola\"\n",
      "17. \"La Cucina Bella\"\n",
      "18. \"Ristorante Amore\"\n",
      "19. \"Bella Cucina\"\n",
      "20. \"Cucina di Lusso\"\n"
     ]
    }
   ],
   "source": [
    "from langchain.llms import OpenAI\n",
    "\n",
    "llm = OpenAI(temperature = 0.7)\n",
    "output = llm(\"I want to open an Italian food restuarant, suggest fancy names for this.\")\n",
    "print(output)\n"
   ]
  },
  {
   "cell_type": "code",
   "execution_count": 9,
   "id": "d5602ecb",
   "metadata": {},
   "outputs": [
    {
     "data": {
      "text/plain": [
       "'I want to open an Mexican food restuarant, suggest a fancy name for this.'"
      ]
     },
     "execution_count": 9,
     "metadata": {},
     "output_type": "execute_result"
    }
   ],
   "source": [
    "from langchain.prompts import PromptTemplate\n",
    "\n",
    "prompt_template_name = PromptTemplate(\n",
    "    input_variables=['cuisine'],\n",
    "    template=\"I want to open an {cuisine} food restuarant, suggest a fancy name for this.\"\n",
    ")\n",
    "\n",
    "prompt_template_name.format(cuisine=\"Mexican\")"
   ]
  },
  {
   "cell_type": "code",
   "execution_count": 11,
   "id": "3db0ee7e",
   "metadata": {},
   "outputs": [
    {
     "data": {
      "text/plain": [
       "'\\n\\n\"Kathiyawadi Delights\"'"
      ]
     },
     "execution_count": 11,
     "metadata": {},
     "output_type": "execute_result"
    }
   ],
   "source": [
    "from langchain.chains import LLMChain\n",
    "\n",
    "chain = LLMChain(llm=llm, prompt=prompt_template_name)\n",
    "chain.run(\"Gujarati\")"
   ]
  },
  {
   "cell_type": "code",
   "execution_count": null,
   "id": "b3c80561",
   "metadata": {},
   "outputs": [],
   "source": []
  }
 ],
 "metadata": {
  "kernelspec": {
   "display_name": "venv",
   "language": "python",
   "name": "python3"
  },
  "language_info": {
   "codemirror_mode": {
    "name": "ipython",
    "version": 3
   },
   "file_extension": ".py",
   "mimetype": "text/x-python",
   "name": "python",
   "nbconvert_exporter": "python",
   "pygments_lexer": "ipython3",
   "version": "3.9.6"
  }
 },
 "nbformat": 4,
 "nbformat_minor": 5
}
