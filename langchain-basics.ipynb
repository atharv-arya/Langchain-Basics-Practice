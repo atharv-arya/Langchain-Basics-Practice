{
 "cells": [
  {
   "cell_type": "code",
   "execution_count": 36,
   "id": "30f77e75",
   "metadata": {},
   "outputs": [],
   "source": [
    "from dotenv import load_dotenv\n",
    "import os\n",
    "load_dotenv()\n",
    "openai_api_key = os.getenv(\"OPENAI_API_KEY\")"
   ]
  },
  {
   "cell_type": "code",
   "execution_count": 8,
   "id": "2630c22a",
   "metadata": {},
   "outputs": [
    {
     "name": "stdout",
     "output_type": "stream",
     "text": [
      "\n",
      "\n",
      "1. \"Cibo Italiano\"\n",
      "2. \"Bella Italia\"\n",
      "3. \"La Dolce Vita\"\n",
      "4. \"Trattoria Elegante\"\n",
      "5. \"Ristorante Di Lusso\"\n",
      "6. \"Cucina Classica\"\n",
      "7. \"Al Dente\"\n",
      "8. \"Fresco Italiano\"\n",
      "9. \"Gusto Italiano\"\n",
      "10. \"Vivace Ristorante\"\n",
      "11. \"Sapori d'Italia\"\n",
      "12. \"Ristorante di Roma\"\n",
      "13. \"Grazie Italiano\"\n",
      "14. \"Sapore di Toscana\"\n",
      "15. \"Bistro Fiore\"\n",
      "16. \"Bella Tavola\"\n",
      "17. \"La Cucina Bella\"\n",
      "18. \"Ristorante Amore\"\n",
      "19. \"Bella Cucina\"\n",
      "20. \"Cucina di Lusso\"\n"
     ]
    }
   ],
   "source": [
    "from langchain.llms import OpenAI\n",
    "\n",
    "llm = OpenAI(temperature = 0.7)\n",
    "output = llm(\"I want to open an Italian food restuarant, suggest fancy names for this.\")\n",
    "print(output)\n"
   ]
  },
  {
   "cell_type": "markdown",
   "id": "b327864b",
   "metadata": {},
   "source": [
    "### **1.Chain** (Runs a single prompt with a language model. You give it input, it gives you output.)\n"
   ]
  },
  {
   "cell_type": "code",
   "execution_count": 9,
   "id": "d5602ecb",
   "metadata": {},
   "outputs": [
    {
     "data": {
      "text/plain": [
       "'I want to open an Mexican food restuarant, suggest a fancy name for this.'"
      ]
     },
     "execution_count": 9,
     "metadata": {},
     "output_type": "execute_result"
    }
   ],
   "source": [
    "from langchain.prompts import PromptTemplate\n",
    "\n",
    "prompt_template_name = PromptTemplate(\n",
    "    input_variables=['cuisine'],\n",
    "    template=\"I want to open an {cuisine} food restuarant, suggest a fancy name for this.\"\n",
    ")\n",
    "\n",
    "prompt_template_name.format(cuisine=\"Mexican\")"
   ]
  },
  {
   "cell_type": "code",
   "execution_count": 11,
   "id": "3db0ee7e",
   "metadata": {},
   "outputs": [
    {
     "data": {
      "text/plain": [
       "'\\n\\n\"Kathiyawadi Delights\"'"
      ]
     },
     "execution_count": 11,
     "metadata": {},
     "output_type": "execute_result"
    }
   ],
   "source": [
    "from langchain.chains import LLMChain\n",
    "\n",
    "chain = LLMChain(llm=llm, prompt=prompt_template_name)\n",
    "chain.run(\"Gujarati\")"
   ]
  },
  {
   "cell_type": "markdown",
   "id": "8ca8eb0f",
   "metadata": {},
   "source": [
    "### **2.Simple Sequential Chain** (Connects multiple chains in a row. The output of one chain becomes the input for the next. It only passes a single string between chains.)"
   ]
  },
  {
   "cell_type": "code",
   "execution_count": 18,
   "id": "b3c80561",
   "metadata": {},
   "outputs": [],
   "source": [
    "llm = OpenAI(temperature = 0.6)\n",
    "\n",
    "prompt_template_name = PromptTemplate(\n",
    "    input_variables=['cuisine'],\n",
    "    template=\"I want to open an {cuisine} food restuarant, suggest a fancy name for this.\"\n",
    ")\n",
    "name_chain = LLMChain(llm = llm, prompt = prompt_template_name)\n",
    "\n",
    "prompt_template_items = PromptTemplate(\n",
    "    input_variables=['restuarant_name'],\n",
    "    template=\"Suggest some menu items for {restuarant_name}. Return them as a comma seperated list.\"\n",
    ") \n",
    "food_items_chain = LLMChain(llm = llm, prompt = prompt_template_items)"
   ]
  },
  {
   "cell_type": "code",
   "execution_count": null,
   "id": "2ae0ee22",
   "metadata": {},
   "outputs": [
    {
     "name": "stdout",
     "output_type": "stream",
     "text": [
      "\n",
      "\n",
      "1. Tandoori Chicken\n",
      "2. Vegetable Samosas\n",
      "3. Butter Chicken\n",
      "4. Lamb Rogan Josh\n",
      "5. Palak Paneer\n",
      "6. Chicken Tikka Masala\n",
      "7. Chana Masala\n",
      "8. Garlic Naan\n",
      "9. Mango Lassi\n",
      "10. Biryani Rice\n",
      "11. Aloo Gobi\n",
      "12. Malai Kofta\n",
      "13. Dal Makhani\n",
      "14. Mango Chutney\n",
      "15. Gulab Jamun\n",
      "\n",
      "Tandoori Chicken, Vegetable Samosas, Butter Chicken, Lamb Rogan Josh, Palak Paneer, Chicken Tikka Masala, Chana Masala, Garlic Naan, Mango Lassi, Biryani Rice, Aloo Gobi, Malai Kofta, Dal Makhani, Mango Chutney, Gulab Jamun\n"
     ]
    }
   ],
   "source": [
    "from langchain.chains import SimpleSequentialChain\n",
    "\n",
    "seq_chain = SimpleSequentialChain(chains = [name_chain, food_items_chain]) # how this works is basically, output of name_chain \n",
    "res = seq_chain.run(\"Indian\")                                              # is taken as the input for food_items_chain\n",
    "print(res)"
   ]
  },
  {
   "cell_type": "markdown",
   "id": "5614acb4",
   "metadata": {},
   "source": [
    "### **3.Sequential Chain** (Connects multiple chains, but can handle multiple inputs and outputs (using dictionaries). It’s more flexible and can pass several variables between chains.)"
   ]
  },
  {
   "cell_type": "code",
   "execution_count": 24,
   "id": "40ba61d2",
   "metadata": {},
   "outputs": [],
   "source": [
    "llm = OpenAI(temperature = 0.6)\n",
    "\n",
    "prompt_template_name = PromptTemplate(\n",
    "    input_variables=['cuisine'],\n",
    "    template=\"I want to open an {cuisine} food restuarant, suggest a fancy name for this.\"\n",
    ")\n",
    "name_chain = LLMChain(llm = llm, prompt = prompt_template_name, output_key = \"restuarant_name\")\n",
    "\n",
    "prompt_template_items = PromptTemplate(\n",
    "    input_variables=['restuarant_name'],\n",
    "    template=\"Suggest some menu items for {restuarant_name}. Return them as a comma seperated list.\"\n",
    ") \n",
    "food_items_chain = LLMChain(llm = llm, prompt = prompt_template_items, output_key = \"menu_items\")"
   ]
  },
  {
   "cell_type": "code",
   "execution_count": 26,
   "id": "f74393fa",
   "metadata": {},
   "outputs": [
    {
     "name": "stderr",
     "output_type": "stream",
     "text": [
      "/var/folders/fj/kvkr7bks3yx9yvxbxh2hc9hc0000gn/T/ipykernel_72196/1238844908.py:8: LangChainDeprecationWarning: The method `Chain.__call__` was deprecated in langchain 0.1.0 and will be removed in 1.0. Use :meth:`~invoke` instead.\n",
      "  chain({'cuisine': 'Indian'}) # need to provide the input varibales as a dict as we might have mutliple inputs in the case of SequentialChain\n"
     ]
    },
    {
     "data": {
      "text/plain": [
       "{'cuisine': 'Indian',\n",
       " 'restuarant_name': '\\n\\n\"Saffron Spice Palace\"',\n",
       " 'menu_items': '\\n\\n1. Saffron Chicken Tikka Masala\\n2. Lamb Korma\\n3. Vegetable Biryani\\n4. Tandoori Shrimp Skewers\\n5. Paneer Butter Masala\\n6. Dal Makhani\\n7. Chicken Vindaloo\\n8. Aloo Gobi\\n9. Tandoori Naan\\n10. Mango Lassi\\n11. Samosas\\n12. Palak Paneer\\n13. Lamb Rogan Josh\\n14. Chana Masala\\n15. Gulab Jamun dessert.'}"
      ]
     },
     "execution_count": 26,
     "metadata": {},
     "output_type": "execute_result"
    }
   ],
   "source": [
    "from langchain.chains import SequentialChain\n",
    "\n",
    "chain = SequentialChain(\n",
    "    chains = [name_chain, food_items_chain],\n",
    "    input_variables = ['cuisine'],\n",
    "    output_variables = ['restuarant_name', 'menu_items']\n",
    ")\n",
    "chain({'cuisine': 'Indian'}) # need to provide the input varibales as a dict as we might have mutliple inputs in the case of SequentialChain"
   ]
  },
  {
   "cell_type": "markdown",
   "id": "39878d6d",
   "metadata": {},
   "source": [
    "## **Agents**"
   ]
  },
  {
   "cell_type": "code",
   "execution_count": null,
   "id": "c7e46fce",
   "metadata": {},
   "outputs": [
    {
     "name": "stdout",
     "output_type": "stream",
     "text": [
      "\n",
      "\n",
      "\u001b[1m> Entering new AgentExecutor chain...\u001b[0m\n",
      "\u001b[32;1m\u001b[1;3m We should use Wikipedia to find out when Salman Khan was born\n",
      "Action: wikipedia\n",
      "Action Input: Salman Khan\u001b[0m\n",
      "Observation: \u001b[36;1m\u001b[1;3mPage: Salman Khan\n",
      "Summary: Salman Salim Khan (Hindi: [səlˈmɑːn ˈxɑːn]; born 27 December 1965) is an Indian actor, film producer, and television personality who predominantly works in Hindi films. In a career spanning over three decades, his awards include two National Film Awards as a film producer, and two Filmfare Awards as an actor. He has been cited in the media as one of the most popular and commercially successful actors of Indian cinema. Forbes included him in listings of the highest-paid celebrities in the world, in 2015 and 2018. He has starred in the annual highest-grossing Hindi films of 10 individual years, the highest for any actor.\n",
      "Khan began his acting career with a supporting role in Biwi Ho To Aisi (1988), followed by his breakthrough with a leading role in Sooraj Barjatya's romantic drama Maine Pyar Kiya (1989), for which he was awarded the Filmfare Award for Best Male Debut. He established himself with several commercially successful films, including Lawrence D'Souza's romantic drama Saajan (1991), Barjatya's family dramas Hum Aapke Hain Koun..! (1994) and Hum Saath-Saath Hain (1999), the action film Karan Arjun (1995) and the comedy Biwi No.1 (1999). After a period of mixed success in romantic comedy, musicals and tragedy drama in 2000s, Khan resurrected his screen image with the action film Wanted (2009), and achieved greater stardom the following decade by starring in the top-grossing action films Dabangg (2010), Ready (2011), Bodyguard (2011), Ek Tha Tiger (2012), Dabangg 2 (2012), Kick (2014), and Tiger Zinda Hai (2017), and the dramas Bajrangi Bhaijaan (2015) and Sultan (2016). This was followed by a series of poorly-received films, except Tiger 3 (2023).\n",
      "In addition to his acting career, Khan is a television presenter and promotes humanitarian causes through his charity, Being Human Foundation. He has been hosting the reality show Bigg Boss since 2010. Khan's off-screen life is marred by controversy and legal troubles. In 2015, he was convicted of culpable homicide for a negligent driving case in which he ran over five people with his car, killing one, but his conviction was set aside on appeal. On 5 April 2018, Khan was convicted in a blackbuck poaching case and sentenced to five years imprisonment. On 7 April 2018, he was out on bail while an appeal was ongoing.\n",
      "\n",
      "Page: Salman Khan filmography\n",
      "Summary: Salman Khan is an Indian actor and producer, known for his work in Hindi films. He made his film debut with a brief role in Biwi Ho To Aisi (1988), before having his breakthrough with Sooraj Barjatya's blockbuster romance Maine Pyar Kiya (1989) that won him the Filmfare Award for Best Male Debut. In the early 1990s, he earned success with the action film Baaghi: A Rebel for Love (1990) and the romance Sanam Bewafa, Saajan (both 1991).\n",
      "The success of the family drama Hum Aapke Hain Koun..! (1994) and the melodramatic action Karan Arjun (1995) revitalised Khan's career and established him in Bollywood. Also in 1994, he co-starred with Aamir Khan in the comedy movie Andaz Apna Apna, which was poorly received at that time, but later became a cult film in India. Among his three film releases of 1996 were Sanjay Leela Bhansali's critically acclaimed musical drama Khamoshi and the Raj Kanwar-directed drama Jeet. The following year, he played dual roles in David Dhawan's comedy Judwaa. In 1998, Khan featured in Sohail Khan's Pyaar Kiya To Darna Kya, and appeared briefly in the romantic drama Kuch Kuch Hota Hai, both of which ranked among the top-earning Bollywood productions of 1998. For the latter, he was awarded the Filmfare Award for Best Supporting Actor.\n",
      "In 1999, Khan starred in three commercially successful productions: the comedy Biwi No.1, the romantic drama Hum Dil De Chuke Sanam, and the family drama Hum Saath-Saath Hain. After starring in BoxOffice Hits and Success in Musical Romantic Dramas , he earned critical acclaim for playing a scorned lover in the romance Tere Naam and a brief role in the fam\u001b[0m\n",
      "Thought:\u001b[32;1m\u001b[1;3m We now know when Salman Khan was born\n",
      "Action: Calculator\n",
      "Action Input: 2025 - 1965\u001b[0m\n",
      "Observation: \u001b[33;1m\u001b[1;3mAnswer: 60\u001b[0m\n",
      "Thought:\u001b[32;1m\u001b[1;3m We now know Salman Khan's age in 2025\n",
      "Final Answer: Salman Khan was born on December 27, 1965, making him 60 years old in 2025.\u001b[0m\n",
      "\n",
      "\u001b[1m> Finished chain.\u001b[0m\n"
     ]
    },
    {
     "data": {
      "text/plain": [
       "'Salman Khan was born on December 27, 1965, making him 60 years old in 2025.'"
      ]
     },
     "execution_count": 32,
     "metadata": {},
     "output_type": "execute_result"
    }
   ],
   "source": [
    "from langchain.agents import AgentType, initialize_agent, load_tools\n",
    "from langchain.llms import OpenAI\n",
    "\n",
    "tools = load_tools([\"wikipedia\", \"llm-math\"], llm=llm)\n",
    "\n",
    "agent = initialize_agent(\n",
    "    tools, \n",
    "    llm, \n",
    "    agent=AgentType.ZERO_SHOT_REACT_DESCRIPTION, \n",
    "    verbose = True\n",
    ")\n",
    "\n",
    "agent.run(\"When was Salman Khan born? What is his age right now in 2025?\")"
   ]
  },
  {
   "cell_type": "code",
   "execution_count": 33,
   "id": "a75af885",
   "metadata": {},
   "outputs": [],
   "source": [
    "serpapi_api_key = os.getenv(\"SERPAPI_API_KEY\")"
   ]
  },
  {
   "cell_type": "code",
   "execution_count": 42,
   "id": "992dcf8c",
   "metadata": {},
   "outputs": [
    {
     "name": "stdout",
     "output_type": "stream",
     "text": [
      "\n",
      "\n",
      "\u001b[1m> Entering new AgentExecutor chain...\u001b[0m\n",
      "\u001b[32;1m\u001b[1;3m I should use a search engine to find the answer.\n",
      "Action: Search\n",
      "Action Input: \"GDP of US in 2022\"\u001b[0m\n",
      "Observation: \u001b[36;1m\u001b[1;3m['Current-dollar GDP increased 9.2 percent, or $2.15 trillion, in 2022 to a level of $25.46 trillion, compared with an increase of 10.7 percent, ...', 'U.S. GDP for 2022 was 26.007 trillion US dollars, a 9.82% increase from 2021. · U.S. GDP for 2021 was 23.681 trillion US dollars, a 10.9% increase from 2020.', 'The US economy grew at an annual rate of 3.3% in Q2 2025, a sharp rebound from the 0.5% contraction in Q1, according to second estimates.', 'Current-dollar GDP increased 9.2 percent, or $2.15 trillion, in 2022 to a level of $25.46 trillion, compared with an increase of 10.7 percent, ...', 'GDP Growth Rate in 2023 was 2.89%, representing a change of 619,200,000,000 US$ over 2022, when Real GDP was $21,443,400,000,000. GDP per Capita in the United ...', 'GDP (current US$) - United States. Country official statistics, National ... 2022, 2021, 2020, 2019, 2018, 2017, 2016, 2015, 2014, 2013, 2012, 2011, 2010, 2009 ...', 'According to the World Bank, the U.S. accounted for 14.8% of the global aggregate GDP in 2024 in purchasing power parity terms and 26.2% in nominal terms. The ...', 'View economic output, reported as the nominal value of all new goods and services produced by labor and property located in the U.S..', 'The Gross Domestic Product (GDP) in the United States was worth 29184.89 billion US dollars in 2024, according to official data from the World Bank.', 'The World Bank provides GDP data in current US$ from 1960-2024, sourced from national organizations, OECD, and World Bank staff estimates.']\u001b[0m\n",
      "Thought:\u001b[32;1m\u001b[1;3m I should use a calculator to calculate the average GDP for 2022.\n",
      "Action: Calculator\n",
      "Action Input: 25.46 trillion + 23.681 trillion + 26.007 trillion + 21.443 trillion + 29184.89 billion\u001b[0m\n",
      "Observation: \u001b[33;1m\u001b[1;3mAnswer: 125775890000000.0\u001b[0m\n",
      "Thought:\u001b[32;1m\u001b[1;3m I should convert the answer to US dollars.\n",
      "Action: Calculator\n",
      "Action Input: 125775890000000.0 * 1.0\u001b[0m\n",
      "Observation: \u001b[33;1m\u001b[1;3mAnswer: 125775890000000.0\u001b[0m\n",
      "Thought:\u001b[32;1m\u001b[1;3m I now know the final answer.\n",
      "Final Answer: The GDP of US in 2022 was approximately $125.78 trillion.\u001b[0m\n",
      "\n",
      "\u001b[1m> Finished chain.\u001b[0m\n"
     ]
    },
    {
     "data": {
      "text/plain": [
       "'The GDP of US in 2022 was approximately $125.78 trillion.'"
      ]
     },
     "execution_count": 42,
     "metadata": {},
     "output_type": "execute_result"
    }
   ],
   "source": [
    "llm = OpenAI(temperature = 0)\n",
    "tools = load_tools([\"serpapi\",\"llm-math\"], llm=llm)\n",
    "agent = initialize_agent(tools, llm, agent=AgentType.ZERO_SHOT_REACT_DESCRIPTION, verbose = True)\n",
    "\n",
    "agent.run(\"What was the GDP of US in 2022?\")"
   ]
  },
  {
   "cell_type": "code",
   "execution_count": null,
   "id": "49414735",
   "metadata": {},
   "outputs": [],
   "source": []
  }
 ],
 "metadata": {
  "kernelspec": {
   "display_name": "venv",
   "language": "python",
   "name": "python3"
  },
  "language_info": {
   "codemirror_mode": {
    "name": "ipython",
    "version": 3
   },
   "file_extension": ".py",
   "mimetype": "text/x-python",
   "name": "python",
   "nbconvert_exporter": "python",
   "pygments_lexer": "ipython3",
   "version": "3.9.6"
  }
 },
 "nbformat": 4,
 "nbformat_minor": 5
}
